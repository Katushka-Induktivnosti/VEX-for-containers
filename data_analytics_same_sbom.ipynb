{
 "cells": [
  {
   "cell_type": "code",
   "execution_count": 1,
   "metadata": {},
   "outputs": [],
   "source": [
    "import pandas as pd\n",
    "import matplotlib.pyplot as plt\n",
    "from json_parser_grype_sboms import create_df"
   ]
  },
  {
   "cell_type": "code",
   "execution_count": 2,
   "metadata": {},
   "outputs": [
    {
     "name": "stdout",
     "output_type": "stream",
     "text": [
      "     VulnerabilityID                  PkgName     Status    Severity  \\\n",
      "0      CVE-2011-3374  debian:distro:debian:12  not-fixed  Negligible   \n",
      "1      CVE-2016-2781  debian:distro:debian:12   wont-fix         Low   \n",
      "2     CVE-2017-18018  debian:distro:debian:12  not-fixed  Negligible   \n",
      "3      CVE-2024-2379  debian:distro:debian:12  not-fixed  Negligible   \n",
      "4      CVE-2024-2398  debian:distro:debian:12   wont-fix     Unknown   \n",
      "...              ...                      ...        ...         ...   \n",
      "1856  CVE-2023-27043  debian:distro:debian:12   wont-fix      Medium   \n",
      "1857   CVE-2005-2541  debian:distro:debian:12  not-fixed  Negligible   \n",
      "1858   CVE-2022-0563  debian:distro:debian:12  not-fixed  Negligible   \n",
      "1859  CVE-2024-28085  debian:distro:debian:12      fixed     Unknown   \n",
      "1860  CVE-2021-31879  debian:distro:debian:12   wont-fix      Medium   \n",
      "\n",
      "     Container   tool  \n",
      "0        nginx  trivy  \n",
      "1        nginx  trivy  \n",
      "2        nginx  trivy  \n",
      "3        nginx  trivy  \n",
      "4        nginx  trivy  \n",
      "...        ...    ...  \n",
      "1856     irssi  trivy  \n",
      "1857     irssi  trivy  \n",
      "1858     irssi  trivy  \n",
      "1859     irssi  trivy  \n",
      "1860     irssi  trivy  \n",
      "\n",
      "[1861 rows x 6 columns]\n"
     ]
    }
   ],
   "source": [
    "df1= create_df()\n",
    "print(df1)"
   ]
  },
  {
   "cell_type": "code",
   "execution_count": 3,
   "metadata": {},
   "outputs": [],
   "source": [
    "import pandas as pd\n",
    "import matplotlib.pyplot as plt\n",
    "from json_parser_trivy_sboms import create_df"
   ]
  },
  {
   "cell_type": "code",
   "execution_count": 5,
   "metadata": {},
   "outputs": [
    {
     "name": "stdout",
     "output_type": "stream",
     "text": [
      "           VulnerabilityID     PkgName        Status  Severity Container  \\\n",
      "0            CVE-2011-3374         apt      affected       LOW     nginx   \n",
      "1      TEMP-0841856-B18BAF        bash      affected       LOW     nginx   \n",
      "2           CVE-2024-28085    bsdutils         fixed      HIGH     nginx   \n",
      "3            CVE-2022-0563    bsdutils      affected       LOW     nginx   \n",
      "4            CVE-2016-2781   coreutils  will_not_fix       LOW     nginx   \n",
      "...                    ...         ...           ...       ...       ...   \n",
      "16932       CVE-2024-28085    uuid-dev         fixed      HIGH     irssi   \n",
      "16933        CVE-2022-0563    uuid-dev      affected       LOW     irssi   \n",
      "16934       CVE-2021-31879        wget      affected    MEDIUM     irssi   \n",
      "16935       CVE-2023-45853      zlib1g  will_not_fix  CRITICAL     irssi   \n",
      "16936       CVE-2023-45853  zlib1g-dev  will_not_fix  CRITICAL     irssi   \n",
      "\n",
      "        tool  \n",
      "0      trivy  \n",
      "1      trivy  \n",
      "2      trivy  \n",
      "3      trivy  \n",
      "4      trivy  \n",
      "...      ...  \n",
      "16932  trivy  \n",
      "16933  trivy  \n",
      "16934  trivy  \n",
      "16935  trivy  \n",
      "16936  trivy  \n",
      "\n",
      "[16937 rows x 6 columns]\n"
     ]
    }
   ],
   "source": [
    "df2= create_df()\n",
    "print(df2)"
   ]
  },
  {
   "cell_type": "code",
   "execution_count": 6,
   "metadata": {},
   "outputs": [],
   "source": [
    "import pandas as pd\n",
    "import matplotlib.pyplot as plt\n",
    "from json_parser_osv import create_df"
   ]
  },
  {
   "cell_type": "code",
   "execution_count": 7,
   "metadata": {},
   "outputs": [
    {
     "name": "stdout",
     "output_type": "stream",
     "text": [
      "            VulnerabilityID                                  PkgName Status  \\\n",
      "0            CVE-2022-33987                                      got          \n",
      "1            CVE-2022-25881                     http-cache-semantics          \n",
      "2            CVE-2023-42282                                       ip          \n",
      "3            CVE-2022-29244                                      npm          \n",
      "4            CVE-2022-25883                                   semver          \n",
      "...                     ...                                      ...    ...   \n",
      "1422  BIT-golang-2024-24785                                   stdlib          \n",
      "1423  BIT-golang-2023-45288                                   stdlib          \n",
      "1424         CVE-2023-34624  net.sourceforge.htmlcleaner:htmlcleaner          \n",
      "1425         CVE-2024-21742      org.apache.james:apache-mime4j-core          \n",
      "1426    BIT-solr-2021-33813                            org.jdom:jdom          \n",
      "\n",
      "      Severity Container   tool  \n",
      "0     MODERATE      odoo  trivy  \n",
      "1         HIGH      odoo  trivy  \n",
      "2     MODERATE      odoo  trivy  \n",
      "3         HIGH      odoo  trivy  \n",
      "4     MODERATE      odoo  trivy  \n",
      "...        ...       ...    ...  \n",
      "1422            telegraf  trivy  \n",
      "1423            telegraf  trivy  \n",
      "1424      HIGH     xwiki  trivy  \n",
      "1425  MODERATE     xwiki  trivy  \n",
      "1426      HIGH     xwiki  trivy  \n",
      "\n",
      "[1427 rows x 6 columns]\n"
     ]
    }
   ],
   "source": [
    "df4= create_df()\n",
    "print(df4)"
   ]
  }
 ],
 "metadata": {
  "kernelspec": {
   "display_name": "Python 3",
   "language": "python",
   "name": "python3"
  },
  "language_info": {
   "codemirror_mode": {
    "name": "ipython",
    "version": 3
   },
   "file_extension": ".py",
   "mimetype": "text/x-python",
   "name": "python",
   "nbconvert_exporter": "python",
   "pygments_lexer": "ipython3",
   "version": "3.12.7"
  }
 },
 "nbformat": 4,
 "nbformat_minor": 2
}
